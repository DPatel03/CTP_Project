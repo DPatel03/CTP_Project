{
 "cells": [
  {
   "cell_type": "code",
   "execution_count": 11,
   "metadata": {},
   "outputs": [
    {
     "name": "stdout",
     "output_type": "stream",
     "text": [
      "10\n",
      "[1, 2, 3]\n",
      "2\n",
      "{'Deep': 96, 'dev': 89}\n",
      "3\n",
      "[0, 2, 4]\n"
     ]
    }
   ],
   "source": [
    "print(sum([1,2,3,4]))\n",
    "a = [1,2,3,4]\n",
    "a.pop()\n",
    "print(a)\n",
    "print(a[1])\n",
    "dic = {\"Deep\": 90, \"dev\": 89, \"Deep\": 96}\n",
    "print(dic)\n",
    "def add(x, y):\n",
    " return x + y\n",
    "print(add(1,2))\n",
    "x = 20\n",
    "\n",
    "sqaure = [i * 2 for i in range(3)]\n",
    "print(sqaure)\n"
   ]
  },
  {
   "cell_type": "code",
   "execution_count": null,
   "metadata": {},
   "outputs": [],
   "source": [
    "# sum([1,2,3,4]) -> 10\n"
   ]
  }
 ],
 "metadata": {
  "kernelspec": {
   "display_name": "Python 3",
   "language": "python",
   "name": "python3"
  },
  "language_info": {
   "codemirror_mode": {
    "name": "ipython",
    "version": 3
   },
   "file_extension": ".py",
   "mimetype": "text/x-python",
   "name": "python",
   "nbconvert_exporter": "python",
   "pygments_lexer": "ipython3",
   "version": "3.12.4"
  }
 },
 "nbformat": 4,
 "nbformat_minor": 2
}
